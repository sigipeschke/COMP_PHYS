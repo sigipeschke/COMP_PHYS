{
 "cells": [
  {
   "cell_type": "markdown",
   "metadata": {},
   "source": [
    "# PHYS 381 - Assignment 0\n",
    "### Siegfried Peschke - 30032136\n",
    "#### January 16, 2019"
   ]
  },
  {
   "cell_type": "markdown",
   "metadata": {},
   "source": [
    "## Introduction\n",
    "In this assignment we explore roundoff error in computing with floating point numbers as well as introducing the plotting of mathematical functions. We explore these topics by considering methods of evaluating polynomials using a computer and take the example of approximating the sine function using the Taylor series."
   ]
  },
  {
   "cell_type": "markdown",
   "metadata": {},
   "source": [
    "## Task 1 - Evaluating Polynomials\n",
    "### Why are the results for evaluating x=0.1 not exactly the same for the forward and reverse methods?  Should we worry about this?\n",
    "Given a polynomial of order $N$ \n",
    "\n",
    "$$ P(x) = a_0 + a_1 x + a_2 x^2 \\ldots = \\sum\\limits_{n=0}^N a_n x^n $$\n",
    "\n",
    "we can easily evaluate it at any arbitrary point $x_i$\n",
    "\n",
    "$$ P(x_i) = \\sum\\limits_{n=0}^N a_n x_i^n $$\n",
    "\n",
    "We can use the following function to perform this evaluation"
   ]
  },
  {
   "cell_type": "code",
   "execution_count": 1,
   "metadata": {},
   "outputs": [],
   "source": [
    "def poly_eval_basic_forward(x, coeff): #As given in the lecture notes\n",
    "    result = 0.0\n",
    "    for n,c in enumerate(coeff):\n",
    "        result = result + c * x**n\n",
    "    return result"
   ]
  },
  {
   "cell_type": "markdown",
   "metadata": {},
   "source": [
    "Since exponentiation is computationally \"expensive\".  If we reverse the order of summation then we only need multiplication and addition which will reduce the time required for the calculation\n",
    "\n",
    "  $$((c_N*x + c_{N-1} )*x + c_{N-2})* x \\ldots + c_0$$\n",
    "  \n",
    "This is called Horner's method and is performed by the following function"
   ]
  },
  {
   "cell_type": "code",
   "execution_count": 2,
   "metadata": {},
   "outputs": [],
   "source": [
    "def poly_eval_basic_reverse(x, coeff): #As given in the lecture notes\n",
    "    result = coeff[-1]\n",
    "    for c in coeff[-2::-1]:\n",
    "        result = result * x + c\n",
    "    return result"
   ]
  },
  {
   "cell_type": "markdown",
   "metadata": {},
   "source": [
    "Let us use the function %timeit to compare the computational speed of each function"
   ]
  },
  {
   "cell_type": "code",
   "execution_count": 3,
   "metadata": {},
   "outputs": [
    {
     "name": "stdout",
     "output_type": "stream",
     "text": [
      "1.6 µs ± 183 ns per loop (mean ± std. dev. of 7 runs, 1000000 loops each)\n"
     ]
    }
   ],
   "source": [
    " %timeit poly_eval_basic_forward(0.5, [0,1,2,3,4,5])"
   ]
  },
  {
   "cell_type": "code",
   "execution_count": 4,
   "metadata": {},
   "outputs": [
    {
     "name": "stdout",
     "output_type": "stream",
     "text": [
      "818 ns ± 142 ns per loop (mean ± std. dev. of 7 runs, 1000000 loops each)\n"
     ]
    }
   ],
   "source": [
    "%timeit poly_eval_basic_reverse(0.5, [0,1,2,3,4,5])"
   ]
  },
  {
   "cell_type": "markdown",
   "metadata": {},
   "source": [
    "Clearly the Horner method reduces the run time of the function by about 50%. Let us now test the accuracy by using each function to evaluate a polynomial with a large number of coefficients at x = 0.1."
   ]
  },
  {
   "cell_type": "code",
   "execution_count": 5,
   "metadata": {},
   "outputs": [
    {
     "name": "stdout",
     "output_type": "stream",
     "text": [
      "0.12345679012345678 0.12345679012345681 2.7755575615628914e-17\n"
     ]
    }
   ],
   "source": [
    "p1 = poly_eval_basic_forward(0.1, range(0,99,1) )\n",
    "p2 = poly_eval_basic_reverse(0.1, range(0,99,1) )\n",
    "print( p1, p2, p2-p1)"
   ]
  },
  {
   "cell_type": "markdown",
   "metadata": {},
   "source": [
    "We know mathematically the two functions are equal, so why do we get a non-zero difference between the two functions evaluation at x=0.1?\n",
    "\n",
    "The answer lies in how the computer memory system handles floating point numbers. Representing a real number which may have an infinite number of decimal places is difficult when one only has a finite number of bits to do so. Because of this, the result of a floating point calculation must often be rounded in order to fit back into its finite representation. This rounding error is the characteristic feature of floating-point computation.\n",
    "\n",
    "Since the operations in the two functions are different, the floating point numbers go through a different set of operations. Simply changing the order of operations can effect the result. On top of that, one function performs exponentiation, an operation that the other function does not perform, this also effects the result. What we learn is that the order of operations and the operation itself determine the rounding of a floating point number.\n",
    "\n",
    "The importance of precision is determined on a case by case basis.  In our given example, we see that the computer provides a precision on the magnitude of $10^{-17}$. If one has a case where high precision is required, the rounding of floating point numbers does become a worry."
   ]
  },
  {
   "cell_type": "markdown",
   "metadata": {},
   "source": [
    "## Task 2 - Taylor series expansion of sin(x)\n",
    "### Write a function which uses numpy to evaluate the Taylor series expansion of sin(x) for an array of x, and an arbitrary number of terms"
   ]
  },
  {
   "cell_type": "markdown",
   "metadata": {},
   "source": [
    "Take the Taylor series expansion about 0 (MacLaurin series) given by\n",
    "\n",
    "$$f(x) = \\sum\\limits_{n=0}^{\\infty} \\frac{f^{(n)}(0)}{n!}x^{n}$$\n",
    "\n",
    "Then the Taylor series of $f(x) = \\sin(x)$ is\n",
    "\n",
    "$$sin(x) = x - \\frac{x^3}{3!} + \\frac{x^5}{5!} - \\frac{x^7}{7!} + ...$$\n",
    "\n",
    "which simplifies to\n",
    "\n",
    "$$sin(x) = \\sum\\limits_{n=0}^{\\infty} \\frac{(-1)^n}{(2n+1)!}x^{2n+1}$$"
   ]
  },
  {
   "cell_type": "code",
   "execution_count": 6,
   "metadata": {},
   "outputs": [],
   "source": [
    "import numpy as np"
   ]
  },
  {
   "cell_type": "code",
   "execution_count": 7,
   "metadata": {},
   "outputs": [
    {
     "name": "stdout",
     "output_type": "stream",
     "text": [
      "sin(0.5), sin(1), sin(np.pi/2) approximated to 200 terms is [0.479425538604203, 0.8414709848078965, 1.0]\n"
     ]
    }
   ],
   "source": [
    "def taylor_sine_series(x, terms, forward_method):\n",
    "    '''\n",
    "    We write a function which performs the MacLaurin series expansion of sin(x) given above.\n",
    "    The variable x is the desired point in which to approximate sin(x) and terms is the variable \n",
    "    respresenting the number of terms which will be used to approximate sin(x).\n",
    "    Begin by calculating the coefficients for each term of the polynomial.\n",
    "    Then proceed to use either the forward calculation or the Horner backwards calculation from task 1.\n",
    "    '''\n",
    "    coeffs = []\n",
    "    for n in range(terms//2 + 1): #We set this range since we append 2 terms per loop\n",
    "        coeffs.append(0) #Every even term is a 0\n",
    "        coefficient = ((-1)**(n))/np.math.factorial(2*n+1) #Calculate the coefficient for every odd term\n",
    "        coeffs.append(coefficient)\n",
    "\n",
    "    result = []\n",
    "    if forward_method == True:\n",
    "        for t in x:\n",
    "            result.append(poly_eval_basic_forward(t, coeffs))\n",
    "    else:\n",
    "        for t in x:\n",
    "            result.append(poly_eval_basic_reverse(t, coeffs))\n",
    "    return result\n",
    "print(\"sin(0.5), sin(1), sin(np.pi/2) approximated to 200 terms is\", taylor_sine_series([0.5, 1, np.pi/2], 200, False))\n"
   ]
  },
  {
   "cell_type": "markdown",
   "metadata": {},
   "source": [
    "### Task 3: Use taylor_sine_series to plot the Taylor series expansions of sin(x) for order n=1, 3, 17, 29 and compare to the \"true\" value."
   ]
  },
  {
   "cell_type": "code",
   "execution_count": 8,
   "metadata": {},
   "outputs": [],
   "source": [
    "import matplotlib.pyplot as plt\n",
    "import unicodedata"
   ]
  },
  {
   "cell_type": "code",
   "execution_count": 9,
   "metadata": {},
   "outputs": [
    {
     "data": {
      "image/png": "[encoded data removed]",
      "text/plain": [
       "<Figure size 432x288 with 1 Axes>"
      ]
     },
     "metadata": {
      "needs_background": "light"
     },
     "output_type": "display_data"
    }
   ],
   "source": [
    "#Create the domain to be plotted\n",
    "t = np.arange(-3*np.pi, 3*np.pi+0.2, 0.2)\n",
    "\n",
    "#Set labels for x-axis\n",
    "pi = unicodedata.lookup(\"GREEK SMALL LETTER PI\")\n",
    "labels = []\n",
    "for i in range(-3,4,1):\n",
    "    if i != 0:\n",
    "        a = str(i) + pi\n",
    "        labels.append(a)\n",
    "    else:\n",
    "        labels.append(i)\n",
    "    \n",
    "#Functions to be plotted\n",
    "plt.plot(t, taylor_sine_series(t, 1, False), label='n=1', color='c', marker='o')\n",
    "plt.plot(t, taylor_sine_series(t, 3, False), label='n=3', color='b', marker='^')\n",
    "plt.plot(t, taylor_sine_series(t, 17, False), label='n=17', color='g', marker='v')\n",
    "plt.plot(t, taylor_sine_series(t, 29, False), label='n=29', color='r', marker='.')\n",
    "plt.plot(t, np.sin(t), label='sin(x)', color='k')\n",
    "#Gridlines\n",
    "plt.axis([-3*np.pi, 3*np.pi, -2.5, 2.5])\n",
    "plt.xticks(np.arange(-3*np.pi, 3*np.pi+1, np.pi), labels)\n",
    "plt.yticks(np.arange(-2.5, 2.6, 0.5))\n",
    "plt.grid(linestyle='solid')\n",
    "#Labels\n",
    "plt.xlabel('x (radians)')\n",
    "plt.ylabel('sin(x)')\n",
    "plt.title('Taylor series expansion of $sin(x)$')\n",
    "#Legend\n",
    "legend = plt.legend(loc='upper left', shadow=(True))\n",
    "frame = legend.get_frame()\n",
    "frame.set_facecolor('#f9f9f9')\n",
    "frame.set_alpha(0.6)\n",
    "plt.show()"
   ]
  },
  {
   "cell_type": "markdown",
   "metadata": {},
   "source": [
    "### Task 4: What are the absolute and the relative error (in percent) for Taylor series expansion of sin(x) at x=0.5 for n=3, 9, 29? Compare results of forward summing to reverse.  How else might we reduce roundoff error?"
   ]
  },
  {
   "cell_type": "code",
   "execution_count": 10,
   "metadata": {},
   "outputs": [
    {
     "name": "stdout",
     "output_type": "stream",
     "text": [
      "Forward Method Results\n",
      "Absolute N3 error: 2.5887e-04\n",
      "Relative N3 error: 5.3996e-02%\n",
      "Absolute N9 error: 1.2213e-11\n",
      "Relative N9 error: 2.5474e-09%\n",
      "Absolute N29 error: 0.0000e+00\n",
      "Relative N29 error: 0.0000e+00%\n",
      "\n",
      "Backwards Method Results\n",
      "Absolute N3 error: 2.5887e-04\n",
      "Relative N3 error: 5.3996e-02%\n",
      "Absolute N9 error: 1.2213e-11\n",
      "Relative N9 error: 2.5474e-09%\n",
      "Absolute N29 error: 0.0000e+00\n",
      "Relative N29 error: 0.0000e+00%\n"
     ]
    }
   ],
   "source": [
    "def taylor_error(x, terms, forward_method):\n",
    "    #Calculate values\n",
    "    val = [x]\n",
    "    taylor_val = taylor_sine_series(val, terms, forward_method)\n",
    "    sine_val = np.sin(x)\n",
    "    #Calculate error values\n",
    "    abs_error = np.abs(taylor_val - sine_val)\n",
    "    rel_error = np.abs((abs_error / sine_val)*100)\n",
    "    #Print error values\n",
    "    np.set_printoptions(precision=2)\n",
    "    print('Absolute N' + str(terms) + ' error:', '{:.4e}'.format(float(abs_error)))\n",
    "    print('Relative N' + str(terms) + ' error:', '{:.4e}'.format(float(rel_error)) + '%')\n",
    "\n",
    "\n",
    "print('Forward Method Results')\n",
    "taylor_error(0.5, 3, True)\n",
    "taylor_error(0.5, 9, True)\n",
    "taylor_error(0.5, 29, True)\n",
    "print()\n",
    "print('Backwards Method Results')\n",
    "taylor_error(0.5, 3, False)\n",
    "taylor_error(0.5, 9, False)\n",
    "taylor_error(0.5, 29, False)"
   ]
  },
  {
   "cell_type": "markdown",
   "metadata": {},
   "source": [
    "Comparing the forward method and backward method above, we find no difference in precision between the two. Both methods are in fact identical in terms of the error they produce. This is likely explained by the Taylor series itself being an approximation. The precision of the Taylor series is less than the round off point of the floating point numbers and thus the Taylor series error dominates the floating point rounding error.\n",
    "\n",
    "It should be noted that when we use the computer to compare the Taylor approximation of sine to the actual sine function, we get a floating point rounding error in the sine function as well.\n",
    "\n",
    "Reducing the roundoff error can be done by reducing the number of algebraic operations performed as well as increasing the float size."
   ]
  },
  {
   "cell_type": "markdown",
   "metadata": {},
   "source": [
    "## Conclusion\n",
    "From this assignment we find that reducing the number of algebraic operations reduces error in the floating point representation. This knowledge is valuable if one requires a high precision of measurement and is using a computer to perform calculations. On a mathematical note, we also find if one is using a Taylor series to approximate a function, the roundoff error of the computer may be ignored as the Taylor series error dominates."
   ]
  }
 ],
 "metadata": {
  "anaconda-cloud": {},
  "kernelspec": {
   "display_name": "Python 3",
   "language": "python",
   "name": "python3"
  },
  "language_info": {
   "codemirror_mode": {
    "name": "ipython",
    "version": 3
   },
   "file_extension": ".py",
   "mimetype": "text/x-python",
   "name": "python",
   "nbconvert_exporter": "python",
   "pygments_lexer": "ipython3",
   "version": "3.7.2"
  }
 },
 "nbformat": 4,
 "nbformat_minor": 1
}
