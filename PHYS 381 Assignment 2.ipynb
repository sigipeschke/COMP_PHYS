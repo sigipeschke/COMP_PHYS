{
 "cells": [
  {
   "cell_type": "markdown",
   "metadata": {},
   "source": [
    "# PHYS 381 - Assignment 2\n",
    "### Siegfried Peschke - 30032136\n",
    "#### Febraury 4, 2019"
   ]
  },
  {
   "cell_type": "markdown",
   "metadata": {},
   "source": [
    "## Introduction\n",
    "In this assignment we utilize the package scipy.integrate.romberg in order to evaluate a specific integral. The goal is to explore this package and vary the tolerance of the evaluation to determine the computational impact by tracking the number of times the integrand is calculated. We will then explore how applying a change of coordinates effects the efficiency and result of computational integration."
   ]
  },
  {
   "cell_type": "markdown",
   "metadata": {},
   "source": [
    "## Evaluating an Integral with scipy.integrate.romberg\n",
    "### Part 1 - Cartesian Coordinates\n",
    "Use scipy.integrate.romberg to evaluate the triple integral\n",
    "\n",
    "$$ \\int_{x=0}^1 \\int_{y=0}^{\\sqrt{1-x^2}} \\int_{z=0}^{\\sqrt{1-x^2-y^2}} \\frac{dz \\, dy \\, dx}{1 + x^2 + y^2 + z^2} $$\n",
    "\n",
    "and determine the number of calls $N$ to the integrand."
   ]
  },
  {
   "cell_type": "code",
   "execution_count": 1,
   "metadata": {},
   "outputs": [],
   "source": [
    "import numpy as np\n",
    "from scipy.integrate import romberg\n",
    "import matplotlib.pyplot as plt"
   ]
  },
  {
   "cell_type": "markdown",
   "metadata": {},
   "source": [
    "In order to calculate the given integral, we will create a function which evaluates the integral in a chain. We do this by first creating the integrand as a mathematical function. Then pass the integrand into scipy.integrate.romberg to evaluate the first integral with given bounds. This returns another integrand for the following integral. Repeat the process for each integral until all three are evaluated, then return the final value."
   ]
  },
  {
   "cell_type": "code",
   "execution_count": 2,
   "metadata": {},
   "outputs": [],
   "source": [
    "def tripleintegrate_cart(tol, divmax = 20):\n",
    "    '''\n",
    "    Parameters:\n",
    "        tol = Sets the tolerance used in scipy.integrate.romberg.\n",
    "        divmax = Sets the maximum divisions used in scipy.integrate.romberg.\n",
    "        \n",
    "    Returns:\n",
    "        The numberical result of the given integral.\n",
    "    '''\n",
    "    def integrand_x(x):\n",
    "        def integrand_y(y):\n",
    "            def integrand_z(z):\n",
    "                global N\n",
    "                N += 1 #Integrand iterations tracker.\n",
    "                return 1/(1+(x**2)+(y**2)+(z**2)) #Create the integrand.\n",
    "            a = 0.0 #Lower bound of dz integral.\n",
    "            b = np.sqrt(np.abs(1-(x**2)-(y**2))) #Upper bound of dz integral.\n",
    "            return romberg(integrand_z, a, b, divmax = divmax, tol = tol) #Calculate and return the integral\n",
    "        a = 0.0\n",
    "        b = np.sqrt(np.abs(1-(x**2)))\n",
    "        return romberg(integrand_y, a, b, divmax = divmax, tol = tol)\n",
    "    a = 0.0\n",
    "    b = 1.0\n",
    "    return romberg(integrand_x, a, b, divmax = divmax, tol = tol)"
   ]
  },
  {
   "cell_type": "markdown",
   "metadata": {},
   "source": [
    "Now we generate the integral values for a variety of tolerances using tripleintegrate_cart whilst keeping track of the number of iterations performed on the integrand."
   ]
  },
  {
   "cell_type": "code",
   "execution_count": 3,
   "metadata": {},
   "outputs": [
    {
     "name": "stdout",
     "output_type": "stream",
     "text": [
      "With tolerance = 1.0e+00 the integral is 0.3234114395499588 with 27 iterations.\n",
      "With tolerance = 1.0e-01 the integral is 0.3257807257620959 with 33 iterations.\n",
      "With tolerance = 1.0e-02 the integral is 0.335071956272606 with 149 iterations.\n",
      "With tolerance = 1.0e-03 the integral is 0.3368817778045251 with 645 iterations.\n",
      "With tolerance = 1.0e-04 the integral is 0.33706953107789955 with 6063 iterations.\n",
      "With tolerance = 1.0e-05 the integral is 0.3370923350921286 with 78253 iterations.\n",
      "With tolerance = 1.0e-06 the integral is 0.3370953613758728 with 419651 iterations.\n",
      "With tolerance = 1.0e-07 the integral is 0.33709574658076724 with 7350025 iterations.\n"
     ]
    }
   ],
   "source": [
    "tol = 1.0\n",
    "tol_cart_list = []\n",
    "N_cart_list = []\n",
    "while tol >= 1.0e-7:\n",
    "    N = 0\n",
    "    print(\"With tolerance =\", str('%.1e' %tol), \"the integral is\", \n",
    "          tripleintegrate_cart(tol), \"with\", N, \"iterations.\")\n",
    "    tol_cart_list.append(tol)\n",
    "    N_cart_list.append(N)\n",
    "    tol = tol * 0.1"
   ]
  },
  {
   "cell_type": "code",
   "execution_count": 4,
   "metadata": {},
   "outputs": [
    {
     "data": {
      "image/png": "[encoded data removed]",
      "text/plain": [
       "<Figure size 720x360 with 1 Axes>"
      ]
     },
     "metadata": {
      "needs_background": "light"
     },
     "output_type": "display_data"
    }
   ],
   "source": [
    "#Create the plot\n",
    "plt.figure(figsize=(10,5))\n",
    "plt.xscale('log')\n",
    "plt.yscale('log')\n",
    "plt.xlabel(\"Tolerance\")\n",
    "plt.ylabel(\"Number of Iterations (N)\")\n",
    "plt.title(\"Plot of N vs Tol in Cartesian Coordinates\")\n",
    "plt.grid(linestyle='dashed')\n",
    "\n",
    "#Plot the data points\n",
    "plt.plot(tol_cart_list, N_cart_list, color = 'blue', marker = 'o')\n",
    "\n",
    "plt.show()"
   ]
  },
  {
   "cell_type": "markdown",
   "metadata": {},
   "source": [
    "Analyzing the plot for cartesian coordinates, we can see that a lower tolerance is required to achieve a more precise integral value. We know that the computer has not yet reached it's maximum precision for the integral value since the number of iterations continues to increase as the tolerance is decreased without convergence. If we allow the computer more time, it will be able to calculate at lower tolerances in order to achieve a more precise value of the integral."
   ]
  },
  {
   "cell_type": "markdown",
   "metadata": {},
   "source": [
    "### Part 2 - Spherical Coordinates\n",
    "Converting the integral into spherical coordinates yields\n",
    "\n",
    "$$ \\int_{\\theta=0}^{\\pi/2} \\int_{\\phi=0}^{\\pi/2} \\int_{\\rho=0}^1 \\frac{\\rho^2 \\sin\\phi \\, d\\rho \\, d\\phi \\, d\\theta}{1 + \\rho^2} $$\n",
    "\n",
    "We will now repeat part 1 for this change of coordinates."
   ]
  },
  {
   "cell_type": "code",
   "execution_count": 5,
   "metadata": {},
   "outputs": [],
   "source": [
    "def tripleintegrate_sphere(tol, divmax = 20):\n",
    "    '''\n",
    "    Parameters:\n",
    "        tol = Sets the tolerance used in scipy.integrate.romberg.\n",
    "        divmax = Sets the maximum divisions used in scipy.integrate.romberg.\n",
    "        \n",
    "    Returns:\n",
    "        The numberical result of the given integral.\n",
    "    '''\n",
    "    def integrand_theta(t):\n",
    "        def integrand_phi(p):\n",
    "            def integrand_rho(r):\n",
    "                global N\n",
    "                N += 1 #Integrand iterations tracker.\n",
    "                return (r**2)*np.sin(p)/(1+(r**2)) #Create the integrand.\n",
    "            a = 0.0 #Lower bound of dz integral.\n",
    "            b = 1 #Upper bound of dz integral.\n",
    "            return romberg(integrand_rho, a, b, divmax = divmax, tol = tol) #Calculate and return the integral\n",
    "        a = 0.0\n",
    "        b = np.pi / 2\n",
    "        return romberg(integrand_phi, a, b, divmax = divmax, tol = tol)\n",
    "    a = 0.0\n",
    "    b = np.pi / 2\n",
    "    return romberg(integrand_theta, a, b, divmax = divmax, tol = tol)"
   ]
  },
  {
   "cell_type": "markdown",
   "metadata": {},
   "source": [
    "Again generate the integral values for a variety of tolerances using tripleintegrate_sphere whilst keeping track of the number of iterations performed on the integrand."
   ]
  },
  {
   "cell_type": "code",
   "execution_count": 6,
   "metadata": {},
   "outputs": [
    {
     "name": "stdout",
     "output_type": "stream",
     "text": [
      "With tolerance = 1.0e+00 the integral is 0.34111513583012737 with 27 iterations.\n",
      "With tolerance = 1.0e-01 the integral is 0.34111513583012737 with 27 iterations.\n",
      "With tolerance = 1.0e-02 the integral is 0.3368867707010082 with 69 iterations.\n",
      "With tolerance = 1.0e-03 the integral is 0.33705099088728735 with 105 iterations.\n",
      "With tolerance = 1.0e-04 the integral is 0.3370966819422417 with 321 iterations.\n",
      "With tolerance = 1.0e-05 the integral is 0.3370957748142048 with 417 iterations.\n",
      "With tolerance = 1.0e-06 the integral is 0.33709577580995265 with 1305 iterations.\n",
      "With tolerance = 1.0e-07 the integral is 0.33709577663903173 with 1593 iterations.\n",
      "With tolerance = 1.0e-08 the integral is 0.33709577663903173 with 1593 iterations.\n",
      "With tolerance = 1.0e-09 the integral is 0.33709577663903173 with 1593 iterations.\n",
      "With tolerance = 1.0e-10 the integral is 0.33709577663903173 with 1593 iterations.\n"
     ]
    }
   ],
   "source": [
    "tol = 1.0\n",
    "tol_sphere_list = []\n",
    "N_sphere_list = []\n",
    "while tol >= 1.0e-10:\n",
    "    N = 0\n",
    "    print(\"With tolerance =\", str('%.1e' %tol), \"the integral is\", \n",
    "          tripleintegrate_sphere(tol), \"with\", N, \"iterations.\")\n",
    "    tol_sphere_list.append(tol)\n",
    "    N_sphere_list.append(N)\n",
    "    tol = tol * 0.1"
   ]
  },
  {
   "cell_type": "code",
   "execution_count": 7,
   "metadata": {},
   "outputs": [
    {
     "data": {
      "image/png": "[encoded data removed]",
      "text/plain": [
       "<Figure size 720x360 with 1 Axes>"
      ]
     },
     "metadata": {
      "needs_background": "light"
     },
     "output_type": "display_data"
    }
   ],
   "source": [
    "#Create the plot\n",
    "plt.figure(figsize=(10,5))\n",
    "plt.xscale('log')\n",
    "plt.yscale('log')\n",
    "plt.xlabel(\"Tolerance\")\n",
    "plt.ylabel(\"Number of Iterations (N)\")\n",
    "plt.title(\"Plot of N vs Tol in Spherical Coordinates\")\n",
    "plt.grid(linestyle='dashed')\n",
    "\n",
    "#Plot the data points\n",
    "plt.plot(tol_sphere_list, N_sphere_list, color = 'blue', marker = 'o')\n",
    "\n",
    "plt.show()"
   ]
  },
  {
   "cell_type": "markdown",
   "metadata": {},
   "source": [
    "Analyzing the plot for spherical coordinates we observe that the computer has reached a maximum precision for the value of the integral. This was achieved at a tolerance of $10^{-7}$ at 1593 iterations."
   ]
  },
  {
   "cell_type": "markdown",
   "metadata": {},
   "source": [
    "## Discussion\n",
    "Comparing the two methods of evaluating the same integral we see that a change of coordinates may improve a computers ability to evaluate an integral. In spherical coordinates, the computer is able to reach a maximum precision value for the integral at a tolerance of $10^{-7}$ while the same method of evaluation in cartesian coordinates requires a smaller tolerance to achieve the same result. On top of this, the number of iterations in spherical coordinates is significantly less than the number of iterations in cartesian coordinates. This is very desirable since this yields a great improvement in computation time.\n",
    "\n",
    "This makes sense since in cartesian coordinates, the function must evaluate at variable limits which depends on the inner integral and for every area the integrand must be calculated. In spherical coordinates, the limits are constants and thus not every calculation requires the integrand to be evaluated."
   ]
  },
  {
   "cell_type": "code",
   "execution_count": 8,
   "metadata": {},
   "outputs": [
    {
     "name": "stdout",
     "output_type": "stream",
     "text": [
      "Evaluation using Cartesian Coordinates\n",
      "   Tolerance = 1.0e+00\n",
      "467 µs ± 6.38 µs per loop (mean ± std. dev. of 7 runs, 1000 loops each)\n",
      "   Tolerance = 1.0e-01\n",
      "575 µs ± 11.3 µs per loop (mean ± std. dev. of 7 runs, 1000 loops each)\n",
      "   Tolerance = 1.0e-02\n",
      "2.41 ms ± 100 µs per loop (mean ± std. dev. of 7 runs, 100 loops each)\n",
      "   Tolerance = 1.0e-03\n",
      "8.99 ms ± 119 µs per loop (mean ± std. dev. of 7 runs, 100 loops each)\n",
      "   Tolerance = 1.0e-04\n",
      "77 ms ± 2.2 ms per loop (mean ± std. dev. of 7 runs, 10 loops each)\n",
      "   Tolerance = 1.0e-05\n",
      "824 ms ± 21.7 ms per loop (mean ± std. dev. of 7 runs, 1 loop each)\n",
      "   Tolerance = 1.0e-06\n",
      "3.75 s ± 35 ms per loop (mean ± std. dev. of 7 runs, 1 loop each)\n",
      "\n",
      "Evaluation using Spherical Coordinates\n",
      "   Tolerance = 1.0e+00\n",
      "459 µs ± 2.37 µs per loop (mean ± std. dev. of 7 runs, 1000 loops each)\n",
      "   Tolerance = 1.0e-01\n",
      "465 µs ± 8.08 µs per loop (mean ± std. dev. of 7 runs, 1000 loops each)\n",
      "   Tolerance = 1.0e-02\n",
      "1.16 ms ± 14.8 µs per loop (mean ± std. dev. of 7 runs, 1000 loops each)\n",
      "   Tolerance = 1.0e-03\n",
      "1.54 ms ± 15.4 µs per loop (mean ± std. dev. of 7 runs, 1000 loops each)\n",
      "   Tolerance = 1.0e-04\n",
      "3.95 ms ± 158 µs per loop (mean ± std. dev. of 7 runs, 100 loops each)\n",
      "   Tolerance = 1.0e-05\n",
      "4.84 ms ± 292 µs per loop (mean ± std. dev. of 7 runs, 100 loops each)\n",
      "   Tolerance = 1.0e-06\n",
      "11.9 ms ± 436 µs per loop (mean ± std. dev. of 7 runs, 100 loops each)\n",
      "   Tolerance = 1.0e-07\n",
      "13.3 ms ± 183 µs per loop (mean ± std. dev. of 7 runs, 100 loops each)\n",
      "   Tolerance = 1.0e-08\n",
      "13.3 ms ± 340 µs per loop (mean ± std. dev. of 7 runs, 100 loops each)\n",
      "   Tolerance = 1.0e-09\n",
      "13.4 ms ± 248 µs per loop (mean ± std. dev. of 7 runs, 100 loops each)\n",
      "   Tolerance = 1.0e-10\n",
      "13.1 ms ± 25.8 µs per loop (mean ± std. dev. of 7 runs, 100 loops each)\n"
     ]
    }
   ],
   "source": [
    "print(\"Evaluation using Cartesian Coordinates\")\n",
    "tol = 1.0\n",
    "while tol > 1.0e-6: #Did not include 1.0e-7 for time sake.\n",
    "    print(\"   Tolerance =\", '%.1e' %tol)\n",
    "    %timeit tripleintegrate_cart(tol)\n",
    "    tol = tol * 0.1\n",
    "    \n",
    "print()\n",
    "    \n",
    "print(\"Evaluation using Spherical Coordinates\")\n",
    "tol = 1.0\n",
    "while tol > 1.0e-10:\n",
    "    print(\"   Tolerance =\", '%.1e' %tol)\n",
    "    %timeit tripleintegrate_sphere(tol)\n",
    "    tol = tol * 0.1"
   ]
  },
  {
   "cell_type": "markdown",
   "metadata": {},
   "source": [
    "Using %timeit to compare the two methods we find a glaring difference which supports the conclusion that less iterations greatly reduces the computation time."
   ]
  },
  {
   "cell_type": "markdown",
   "metadata": {},
   "source": [
    "## Conclusion\n",
    "We learn a few key concepts in this assignment. Begining with handling an unevaluated mathematical function. We utilize scipy.integrate.romberg to perform an integral i.e. find the area under the curve over an interval. We notice that the romberg function takes an unevaluated mathematical function as input and outputs a value. We then had to explore how to utilize the romberg function to chain integrals together. Furthermore, we learned that simplifying an integral by changing the coordinates greatly reduces computation time and makes it much easier for a computer to arrive at a maximum precision value."
   ]
  },
  {
   "cell_type": "code",
   "execution_count": null,
   "metadata": {},
   "outputs": [],
   "source": []
  }
 ],
 "metadata": {
  "kernelspec": {
   "display_name": "Python 3",
   "language": "python",
   "name": "python3"
  },
  "language_info": {
   "codemirror_mode": {
    "name": "ipython",
    "version": 3
   },
   "file_extension": ".py",
   "mimetype": "text/x-python",
   "name": "python",
   "nbconvert_exporter": "python",
   "pygments_lexer": "ipython3",
   "version": "3.7.2"
  }
 },
 "nbformat": 4,
 "nbformat_minor": 2
}
